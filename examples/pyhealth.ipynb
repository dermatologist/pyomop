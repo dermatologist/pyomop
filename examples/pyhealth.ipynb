{
 "cells": [
  {
   "cell_type": "code",
   "execution_count": null,
   "id": "7cc990a9",
   "metadata": {},
   "outputs": [],
   "source": [
    "# Generate database and export data\n",
    "!pyomop -e GiBleed -v 5.3 --pyhealth-path ~/pyhealth\n"
   ]
  },
  {
   "cell_type": "code",
   "execution_count": 16,
   "id": "bbbfcb09",
   "metadata": {},
   "outputs": [
    {
     "name": "stdout",
     "output_type": "stream",
     "text": [
      "INFO: Pandarallel will run on 2 workers.\n",
      "INFO: Pandarallel will use Memory file system to transfer data between the main process and workers.\n",
      "finish basic patient information parsing : 0.6954030990600586s\n",
      "finish parsing condition_occurrence : 10.77425217628479s\n",
      "finish parsing procedure_occurrence : 7.610509634017944s\n",
      "finish parsing drug_exposure : 12.243594408035278s\n",
      "finish parsing measurement : 7.487984657287598s\n"
     ]
    },
    {
     "name": "stderr",
     "output_type": "stream",
     "text": [
      "Mapping codes: 100%|██████████| 1000/1000 [00:00<00:00, 520449.68it/s]"
     ]
    },
    {
     "name": "stdout",
     "output_type": "stream",
     "text": [
      "\n",
      "Statistics of base dataset (dev=True):\n",
      "\t- Dataset: GiBleed\n",
      "\t- Number of patients: 1000\n",
      "\t- Number of visits: 351\n",
      "\t- Number of visits per patient: 0.3510\n",
      "\t- Number of events per visit in condition_occurrence: 0.0000\n",
      "\t- Number of events per visit in procedure_occurrence: 0.0000\n",
      "\t- Number of events per visit in drug_exposure: 0.0000\n",
      "\t- Number of events per visit in measurement: 0.0114\n",
      "\n",
      "\n",
      "dataset.patients: patient_id -> <Patient>\n",
      "\n",
      "<Patient>\n",
      "    - visits: visit_id -> <Visit> \n",
      "    - other patient-level info\n",
      "    \n",
      "    <Visit>\n",
      "        - event_list_dict: table_name -> List[Event]\n",
      "        - other visit-level info\n",
      "    \n",
      "        <Event>\n",
      "            - code: str\n",
      "            - other event-level info\n",
      "\n"
     ]
    },
    {
     "name": "stderr",
     "output_type": "stream",
     "text": [
      "\n"
     ]
    }
   ],
   "source": [
    "from pyhealth.datasets import OMOPDataset\n",
    "dataset = OMOPDataset(\n",
    "        dataset_name=\"GiBleed\",\n",
    "        root=\"~/pyhealth\",\n",
    "        tables=[\"condition_occurrence\", \"procedure_occurrence\", \"drug_exposure\", \"measurement\",],\n",
    "        dev=True,\n",
    "        refresh_cache=True,\n",
    "    )\n",
    "dataset.stat()\n",
    "dataset.info()\n"
   ]
  }
 ],
 "metadata": {
  "kernelspec": {
   "display_name": "torch",
   "language": "python",
   "name": "python3"
  },
  "language_info": {
   "codemirror_mode": {
    "name": "ipython",
    "version": 3
   },
   "file_extension": ".py",
   "mimetype": "text/x-python",
   "name": "python",
   "nbconvert_exporter": "python",
   "pygments_lexer": "ipython3",
   "version": "3.11.13"
  }
 },
 "nbformat": 4,
 "nbformat_minor": 5
}
